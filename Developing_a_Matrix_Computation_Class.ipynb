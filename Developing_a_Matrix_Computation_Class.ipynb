{
  "nbformat": 4,
  "nbformat_minor": 0,
  "metadata": {
    "colab": {
      "provenance": [],
      "authorship_tag": "ABX9TyN3sXP4VEEOKs6bSna1FMv1",
      "include_colab_link": true
    },
    "kernelspec": {
      "name": "python3",
      "display_name": "Python 3"
    },
    "language_info": {
      "name": "python"
    }
  },
  "cells": [
    {
      "cell_type": "markdown",
      "metadata": {
        "id": "view-in-github",
        "colab_type": "text"
      },
      "source": [
        "<a href=\"https://colab.research.google.com/github/TokyoGoblin/Algorithm-Development/blob/main/Developing_a_Matrix_Computation_Class.ipynb\" target=\"_parent\"><img src=\"https://colab.research.google.com/assets/colab-badge.svg\" alt=\"Open In Colab\"/></a>"
      ]
    },
    {
      "cell_type": "code",
      "execution_count": 41,
      "metadata": {
        "id": "aB1AoPmHlhhw"
      },
      "outputs": [],
      "source": [
        "class Matrix:\n",
        "  rows = 0\n",
        "  columns = 0\n",
        "  matrix = []\n",
        "  matrixRow = []\n",
        "  dataCount = 0\n",
        "  matrixList = []\n",
        "  tempProduct = 0\n",
        "\n",
        "  def __init__(self, Rows, Columns, Data = []):\n",
        "    if Data == []:\n",
        "      Data = [None] * (Rows * Columns)\n",
        "    self.matrix = []\n",
        "    self.rows = Rows\n",
        "    self.columns = Columns\n",
        "    for i in range(Rows):\n",
        "      self.matrixRow = []\n",
        "      for j in range(Columns):\n",
        "                self.matrixRow.append(\n",
        "                    Data[self.dataCount])\n",
        "                self.dataCount += 1\n",
        "                self.matrix.append(self.matrixRow)"
      ]
    },
    {
      "cell_type": "code",
      "source": [
        "myMatrix = Matrix(2,3)\n",
        "print(myMatrix.rows)\n",
        "print(myMatrix.columns)\n",
        "print(myMatrix.matrix)"
      ],
      "metadata": {
        "colab": {
          "base_uri": "https://localhost:8080/"
        },
        "id": "TIrUqiO1oEJY",
        "outputId": "91ca1740-67fd-4cfe-f881-080f6823ea2b"
      },
      "execution_count": 42,
      "outputs": [
        {
          "output_type": "stream",
          "name": "stdout",
          "text": [
            "2\n",
            "3\n",
            "[[None, None, None], [None, None, None], [None, None, None], [None, None, None], [None, None, None], [None, None, None]]\n"
          ]
        }
      ]
    },
    {
      "cell_type": "code",
      "source": [
        "z = list(range(6))\n",
        "print(z)\n",
        "myMatrix2 = Matrix(2, 3, z)\n",
        "print(myMatrix2.matrix)"
      ],
      "metadata": {
        "colab": {
          "base_uri": "https://localhost:8080/"
        },
        "id": "-cy3WP0ppF1O",
        "outputId": "e3df318b-8248-4ae5-cbe7-0493726d9e68"
      },
      "execution_count": 43,
      "outputs": [
        {
          "output_type": "stream",
          "name": "stdout",
          "text": [
            "[0, 1, 2, 3, 4, 5]\n",
            "[[0, 1, 2], [0, 1, 2], [0, 1, 2], [3, 4, 5], [3, 4, 5], [3, 4, 5]]\n"
          ]
        }
      ]
    },
    {
      "cell_type": "markdown",
      "source": [
        "# **Printing the resulting Matrix**"
      ],
      "metadata": {
        "id": "-gQhaTu-paFZ"
      }
    },
    {
      "cell_type": "code",
      "source": [
        "myMatrix = Matrix(2,3)\n",
        "print(myMatrix.rows)\n",
        "print(myMatrix.columns)\n",
        "print(myMatrix.matrix)"
      ],
      "metadata": {
        "colab": {
          "base_uri": "https://localhost:8080/"
        },
        "id": "W9CUgVBapfIk",
        "outputId": "10e11460-7372-4118-bb27-ed1a6f158a09"
      },
      "execution_count": 44,
      "outputs": [
        {
          "output_type": "stream",
          "name": "stdout",
          "text": [
            "2\n",
            "3\n",
            "[[None, None, None], [None, None, None], [None, None, None], [None, None, None], [None, None, None], [None, None, None]]\n"
          ]
        }
      ]
    },
    {
      "cell_type": "code",
      "source": [
        "def __getitem__(self, index):\n",
        "  return self.matrix[index]\n",
        "  #This creates a method for accessing specific matrix elements in one's class\n",
        "\n"
      ],
      "metadata": {
        "id": "eh2knBLHpsTX"
      },
      "execution_count": 45,
      "outputs": []
    },
    {
      "cell_type": "markdown",
      "source": [
        "# **Performing scalar and matrix addition**"
      ],
      "metadata": {
        "id": "WgVwMF3HqgjG"
      }
    },
    {
      "cell_type": "code",
      "source": [
        "def __add__(self, Value):\n",
        "  self.matrixList = []\n",
        "  if type(Value) == list:\n",
        "    for i in range(self.rows):\n",
        "      for j in range(self.columns):\n",
        "        self.matrixList.append(\n",
        "            self.matrix[i][j] + Value[i][j])\n",
        "\n",
        "  else:\n",
        "    for i in range(self.rows):\n",
        "      for j in range(self.columns):\n",
        "        self.matrixList.append(\n",
        "            self.matrix[i][j] + Value)\n",
        "  return Matrix(self.rows, self.columns,\n",
        "                self.matrixList)"
      ],
      "metadata": {
        "id": "zWnzjiKzqnfw"
      },
      "execution_count": 46,
      "outputs": []
    },
    {
      "cell_type": "markdown",
      "source": [
        "# **Performing multiplication**\n"
      ],
      "metadata": {
        "id": "dG-1Wfg8rote"
      }
    },
    {
      "cell_type": "code",
      "source": [
        "#Element-wise product\n",
        "def __nul__(self, MatrixIn):\n",
        "  self.matrixList = []\n",
        "  for i in range(self.rows):\n",
        "    for j in range(self.columns):\n",
        "      self.matrixList.append(\n",
        "          self.matrix[i][j] * MatrixIn[i][j])\n",
        "      return Matrix(self.rows, self.columns,\n",
        "              self.matrixList)\n",
        "\n",
        "#This code simply multiplies the elements in one matrix by the same elements in the second matrix\n",
        "\n",
        ""
      ],
      "metadata": {
        "id": "JUIoYciurtl8"
      },
      "execution_count": 47,
      "outputs": []
    },
    {
      "cell_type": "markdown",
      "source": [
        "# **Dot Notation**"
      ],
      "metadata": {
        "id": "Q69ttEektaAz"
      }
    },
    {
      "cell_type": "code",
      "source": [
        "def dot(self, MatrixIn):\n",
        "  self.matrixList = []\n",
        "  for i in range(self.rows):\n",
        "    for j in range(MatrixIn.columns):\n",
        "      tempProduct = 0\n",
        "      for k in range(self.columns):\n",
        "        tempProduct += self.matrix[i][k] * \\\n",
        "        MatrixIn[k][j]\n",
        "      self.matrixList.append(tempProduct)\n",
        "  return Matrix(self.rows, MatrixIn.columns,\n",
        "                self.matrixList)\n",
        "\n",
        "  Price = Matrix(1, 3, [1,2,1])\n",
        "  Sales = Matrix(3,5,\n",
        "                 [5, 3, 4, 3, 2, 2, 3, 3, 4, 4, 1, 2, 4, 2, 3])\n",
        "  print(Price.matrix)\n",
        "  print(Sales.matrix)\n",
        "  print(Price.dot(Sales).matrix)\n",
        "\n",
        ""
      ],
      "metadata": {
        "id": "5cGph0oStgpI"
      },
      "execution_count": 48,
      "outputs": []
    },
    {
      "cell_type": "markdown",
      "source": [
        "# **Manipulating the Matrix**"
      ],
      "metadata": {
        "id": "rGFl37VxuhLi"
      }
    },
    {
      "cell_type": "code",
      "source": [
        "#Transposing a matrix\n",
        "\n",
        "#The following code transposes rows into columns\n",
        "A = Matrix(2, 3, [1, 2, 3, 4, 5, 6])\n",
        "B = Matrix(2, 3, [1, 2, 3, 4, 5, 6])\n",
        "\n",
        "\n",
        "def transpose(self):\n",
        "  self.matrixList = []\n",
        "  for i in range(self.columns):\n",
        "    for j in range(self.rows):\n",
        "      self.matrixList.append(self.matrix[j][i])\n",
        "  return Matrix(self.columns, self.rows,\n",
        "                self.matrixList)\n",
        "\n",
        "  print(A.matrix)\n",
        "  print(A.transposes().matrix)"
      ],
      "metadata": {
        "id": "RTL0vOrLumZm"
      },
      "execution_count": 51,
      "outputs": []
    },
    {
      "cell_type": "markdown",
      "source": [
        "# **Calculating the determinant**\n",
        "*Only applies to square matrices*"
      ],
      "metadata": {
        "id": "XVGeybNWvmum"
      }
    },
    {
      "cell_type": "code",
      "source": [
        "#The Laplace expansion\n",
        "\n",
        "#Code below obtains a 2-x-2 matrix which is necessary for some calculations\n",
        "\n",
        "def copyMatrix(self):\n",
        "  for i in range(self.rows):\n",
        "    for j in range(self.columns):\n",
        "      self.matrixList.append(self.matrix[i][j])\n",
        "  return Matrix(self.rows, self.columns,\n",
        "                self.matrixList)"
      ],
      "metadata": {
        "id": "HqRQWC6uvucy"
      },
      "execution_count": 52,
      "outputs": []
    }
  ]
}