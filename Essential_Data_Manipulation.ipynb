{
  "nbformat": 4,
  "nbformat_minor": 0,
  "metadata": {
    "colab": {
      "provenance": [],
      "authorship_tag": "ABX9TyN41eWv9sGa/DQ+3mx+SBV8",
      "include_colab_link": true
    },
    "kernelspec": {
      "name": "python3",
      "display_name": "Python 3"
    },
    "language_info": {
      "name": "python"
    }
  },
  "cells": [
    {
      "cell_type": "markdown",
      "metadata": {
        "id": "view-in-github",
        "colab_type": "text"
      },
      "source": [
        "<a href=\"https://colab.research.google.com/github/TokyoGoblin/Algorithm-Development/blob/main/Essential_Data_Manipulation.ipynb\" target=\"_parent\"><img src=\"https://colab.research.google.com/assets/colab-badge.svg\" alt=\"Open In Colab\"/></a>"
      ]
    },
    {
      "cell_type": "markdown",
      "source": [
        "# Performing Calculations Using Vectors and Matrixes"
      ],
      "metadata": {
        "id": "hEFuspVu_aKH"
      }
    },
    {
      "cell_type": "code",
      "execution_count": 10,
      "metadata": {
        "colab": {
          "base_uri": "https://localhost:8080/"
        },
        "id": "pnE_Beok8WhA",
        "outputId": "7756e252-d124-4e11-db31-e4b643a93b77"
      },
      "outputs": [
        {
          "output_type": "stream",
          "name": "stdout",
          "text": [
            "<class 'numpy.int16'>\n"
          ]
        }
      ],
      "source": [
        "import numpy as np\n",
        "myShort = np.short(15)\n",
        "myVect = np.array([1, 2, 3, 4])\n",
        "myVect = np.arange(1, 10, 2)\n",
        "myVect = np.int16([1, 2, 3, 4])\n",
        "print(type(myVect[0]))"
      ]
    },
    {
      "cell_type": "code",
      "source": [
        " myVect = np.array([1, 2, 3, 4])\n",
        " myVect * 1\n"
      ],
      "metadata": {
        "colab": {
          "base_uri": "https://localhost:8080/"
        },
        "id": "8OpikVKz9Oya",
        "outputId": "f91dc497-8121-45b0-d662-04ef9fd80b66"
      },
      "execution_count": 11,
      "outputs": [
        {
          "output_type": "execute_result",
          "data": {
            "text/plain": [
              "array([1, 2, 3, 4])"
            ]
          },
          "metadata": {},
          "execution_count": 11
        }
      ]
    },
    {
      "cell_type": "code",
      "source": [],
      "metadata": {
        "id": "kkvJkTVE9vjB"
      },
      "execution_count": 11,
      "outputs": []
    },
    {
      "cell_type": "markdown",
      "source": [
        "Can perform both logical and comparison tasks with scalar and vector"
      ],
      "metadata": {
        "id": "xEtG3JTM9wKo"
      }
    },
    {
      "cell_type": "code",
      "source": [
        "a = np.array([1, 2, 3, 4])\n",
        "b = np.array([2, 2, 4, 4])\n",
        "\n",
        "print(a==b)\n",
        "print(a < b)"
      ],
      "metadata": {
        "colab": {
          "base_uri": "https://localhost:8080/"
        },
        "id": "T2WpyZQ09-ou",
        "outputId": "e3b5a6a8-16ac-44d9-f579-048fd6b33b18"
      },
      "execution_count": 12,
      "outputs": [
        {
          "output_type": "stream",
          "name": "stdout",
          "text": [
            "[False  True False  True]\n",
            "[ True False  True False]\n"
          ]
        }
      ]
    },
    {
      "cell_type": "code",
      "source": [
        "a = np.array([True, False, True, False])\n",
        "b = np.array([True, True, False, False])\n",
        "\n",
        "print(np.logical_or(a,b))\n",
        "print(np.logical_and(a,b))\n",
        "print(np.logical_not(a))\n",
        "print(np.logical_xor(a,b))\n"
      ],
      "metadata": {
        "colab": {
          "base_uri": "https://localhost:8080/"
        },
        "id": "nLBAVPzU-VNG",
        "outputId": "d65cda0d-88cd-439a-c95d-63db0f32fa0a"
      },
      "execution_count": 13,
      "outputs": [
        {
          "output_type": "stream",
          "name": "stdout",
          "text": [
            "[ True  True  True False]\n",
            "[ True False False False]\n",
            "[False  True False  True]\n",
            "[False  True  True False]\n"
          ]
        }
      ]
    },
    {
      "cell_type": "markdown",
      "source": [
        "# Performing Vector Multiplication\n"
      ],
      "metadata": {
        "id": "7Sd1LAde_AXS"
      }
    },
    {
      "cell_type": "markdown",
      "source": [
        "An element-by-element multiplication can produce incorrect results when working with algorithms. In many cases, what you really need is a dot product, which is the sum of the products of two number sequences. When working with vectors, the dot product is always the sum of the individual element-by-element multiplications and results in a single number."
      ],
      "metadata": {
        "id": "KY884t-M_JL5"
      }
    },
    {
      "cell_type": "code",
      "source": [
        "#Create a matrix!\n",
        "myMatrix = np.array([[1,2,3], [4,5,6], [7,8,9]])\n",
        "print(myMatrix)\n",
        "#To access a particular array element, you provide a row and column index value\n",
        "myMatrix[0,0] #Prints out 1 from the Matrix"
      ],
      "metadata": {
        "colab": {
          "base_uri": "https://localhost:8080/"
        },
        "id": "2Y0pRqE0_HOH",
        "outputId": "8b5ae257-ed56-489e-b5b6-3ebaf52d8d69"
      },
      "execution_count": 16,
      "outputs": [
        {
          "output_type": "stream",
          "name": "stdout",
          "text": [
            "[[1 2 3]\n",
            " [4 5 6]\n",
            " [7 8 9]]\n"
          ]
        },
        {
          "output_type": "execute_result",
          "data": {
            "text/plain": [
              "1"
            ]
          },
          "metadata": {},
          "execution_count": 16
        }
      ]
    },
    {
      "cell_type": "markdown",
      "source": [
        "Above is a simple matrix and one simple matrix skill. Below is the best way to summon a matrix from the binary depths"
      ],
      "metadata": {
        "id": "-nSdqSKDAP7c"
      }
    },
    {
      "cell_type": "code",
      "source": [
        "myMatrix = np.mat([[1,2,3], [4,5,6], [7,8,9]])\n",
        "print(type(myMatrix)) #Checks if this is an actual matrix"
      ],
      "metadata": {
        "colab": {
          "base_uri": "https://localhost:8080/"
        },
        "id": "EoXgCP73AlEQ",
        "outputId": "b26236d9-8eb1-428a-8140-fee05ccf4dd6"
      },
      "execution_count": 20,
      "outputs": [
        {
          "output_type": "stream",
          "name": "stdout",
          "text": [
            "<class 'numpy.matrix'>\n"
          ]
        }
      ]
    },
    {
      "cell_type": "markdown",
      "source": [
        "One can also convert an existing array to a matrix using the asmatrix() function. Use the asarray() function to convert a matrix object back to an array form.\n",
        "\n",
        "Also, the only problem with the matrix class is that it works on only 2-D matrixes."
      ],
      "metadata": {
        "id": "yW0pv1mDA76a"
      }
    },
    {
      "cell_type": "code",
      "source": [
        "a = np.array([[1,2,3],[4,5,6]])\n",
        "b = np.array([[1,2,3], [4,5,6]])\n",
        "\n",
        "print(a*b)\n",
        "\n",
        "#To perform an element-by-element multiplication, the two matrixes must be the same shape. Otherwise, error message."
      ],
      "metadata": {
        "colab": {
          "base_uri": "https://localhost:8080/"
        },
        "id": "NYhgsqt5Bi13",
        "outputId": "620fbd5c-ee57-45d8-a1ef-fa2c3765c191"
      },
      "execution_count": 21,
      "outputs": [
        {
          "output_type": "stream",
          "name": "stdout",
          "text": [
            "[[ 1  4  9]\n",
            " [16 25 36]]\n"
          ]
        }
      ]
    },
    {
      "cell_type": "code",
      "source": [
        "a = np.array([[1,2,3], [4,5,6]])\n",
        "b = np.array([[1,2,3], [3,4,5], [5,6,7]])\n",
        "\n",
        "print(a.dot(b))"
      ],
      "metadata": {
        "colab": {
          "base_uri": "https://localhost:8080/"
        },
        "id": "EOJ4ddvABxdU",
        "outputId": "ef4bf507-780d-4259-ef92-9580080735b7"
      },
      "execution_count": 22,
      "outputs": [
        {
          "output_type": "stream",
          "name": "stdout",
          "text": [
            "[[22 28 34]\n",
            " [49 64 79]]\n"
          ]
        }
      ]
    },
    {
      "cell_type": "code",
      "source": [
        "changeIt = np.array([1,2,3,4,5,6,7,8])\n",
        "print(changeIt)\n",
        "\n",
        "changeIt = changeIt.reshape(2,4)\n",
        "print(changeIt)\n",
        "\n",
        "changeIt = changeIt.reshape(2,2,2)\n",
        "print(changeIt)"
      ],
      "metadata": {
        "colab": {
          "base_uri": "https://localhost:8080/"
        },
        "id": "HxYkq2sSCe4s",
        "outputId": "9359d470-5002-419c-c30e-216d1ace8cb8"
      },
      "execution_count": 23,
      "outputs": [
        {
          "output_type": "stream",
          "name": "stdout",
          "text": [
            "[1 2 3 4 5 6 7 8]\n",
            "[[1 2 3 4]\n",
            " [5 6 7 8]]\n",
            "[[[1 2]\n",
            "  [3 4]]\n",
            "\n",
            " [[5 6]\n",
            "  [7 8]]]\n"
          ]
        }
      ]
    },
    {
      "cell_type": "code",
      "source": [
        "changeIt = np.array([[1,2,3,4],[5,6,7,8]])\n",
        "print(changeIt)\n",
        "\n",
        "changeIt = np.transpose(changeIt)\n",
        "print(changeIt)\n",
        "\n",
        "print(np.identity(4))  #Identity matrix in numpy, using an identity function\n",
        "#notice that identity matrix contains all ones on the diagonal"
      ],
      "metadata": {
        "colab": {
          "base_uri": "https://localhost:8080/"
        },
        "id": "BnlhHAw2C9Lz",
        "outputId": "d4883ec6-4ce6-4a6c-bcd4-f46fd18dbf38"
      },
      "execution_count": 25,
      "outputs": [
        {
          "output_type": "stream",
          "name": "stdout",
          "text": [
            "[[1 2 3 4]\n",
            " [5 6 7 8]]\n",
            "[[1 5]\n",
            " [2 6]\n",
            " [3 7]\n",
            " [4 8]]\n",
            "[[1. 0. 0. 0.]\n",
            " [0. 1. 0. 0.]\n",
            " [0. 0. 1. 0.]\n",
            " [0. 0. 0. 1.]]\n"
          ]
        }
      ]
    },
    {
      "cell_type": "code",
      "source": [
        "a = np.array([[1,2], [3,4]])\n",
        "b = np.linalg.inv(a)\n",
        "\n",
        "print(np.allclose(np.dot(a,b), np.identity(2)))\n",
        "\n",
        "#The output of true tells us that b is the inverse of a.\n",
        " #(Sometimes, finding the inverse of a matrix is impossible)\n",
        " #When a matrix cannot be inverted, it is a degenerate matrix. (Rare)"
      ],
      "metadata": {
        "colab": {
          "base_uri": "https://localhost:8080/"
        },
        "id": "_JE_svAVDw8G",
        "outputId": "d7eb0522-09b6-434c-aaf1-ff37c2495865"
      },
      "execution_count": 27,
      "outputs": [
        {
          "output_type": "stream",
          "name": "stdout",
          "text": [
            "True\n"
          ]
        }
      ]
    },
    {
      "cell_type": "markdown",
      "source": [
        "# Creating Combinations the Right Way\n",
        "\n",
        "#Shaping data often involves viewing data in multiple ways."
      ],
      "metadata": {
        "id": "8uK4NO9IEMIC"
      }
    },
    {
      "cell_type": "markdown",
      "source": [
        "Distinguishing Permutations below"
      ],
      "metadata": {
        "id": "m9cQsYdoEcoy"
      }
    },
    {
      "cell_type": "code",
      "source": [
        "a = np.array([1,2,3])\n",
        "print(np.random.permutation(a))\n",
        "\n",
        "#randomizes original data"
      ],
      "metadata": {
        "colab": {
          "base_uri": "https://localhost:8080/"
        },
        "id": "jTALuQ5SEgLk",
        "outputId": "4ef361c2-428f-4884-9bb1-1b610623aa81"
      },
      "execution_count": 28,
      "outputs": [
        {
          "output_type": "stream",
          "name": "stdout",
          "text": [
            "[2 3 1]\n"
          ]
        }
      ]
    },
    {
      "cell_type": "code",
      "source": [
        "from itertools import permutations\n",
        "\n",
        "a = np.array([1,2,3])\n",
        "\n",
        "for p in permutations(a):\n",
        "  print(p)"
      ],
      "metadata": {
        "colab": {
          "base_uri": "https://localhost:8080/"
        },
        "id": "KdEsIZdKE8T7",
        "outputId": "6ff77989-415e-4640-bf61-eddc8e1019a0"
      },
      "execution_count": 29,
      "outputs": [
        {
          "output_type": "stream",
          "name": "stdout",
          "text": [
            "(1, 2, 3)\n",
            "(1, 3, 2)\n",
            "(2, 1, 3)\n",
            "(2, 3, 1)\n",
            "(3, 1, 2)\n",
            "(3, 2, 1)\n"
          ]
        }
      ]
    },
    {
      "cell_type": "markdown",
      "source": [
        "Shuffling Combinations"
      ],
      "metadata": {
        "id": "F3txF7v3FN42"
      }
    },
    {
      "cell_type": "code",
      "source": [
        "from itertools import combinations\n",
        "\n",
        "a = np.array([1,2,3,4])\n",
        "\n",
        "for comb in combinations(a,2):\n",
        "  print(comb)"
      ],
      "metadata": {
        "colab": {
          "base_uri": "https://localhost:8080/"
        },
        "id": "0hAiQDoRGqya",
        "outputId": "226edc2d-6df3-4c12-d9f4-eb301d884329"
      },
      "execution_count": 30,
      "outputs": [
        {
          "output_type": "stream",
          "name": "stdout",
          "text": [
            "(1, 2)\n",
            "(1, 3)\n",
            "(1, 4)\n",
            "(2, 3)\n",
            "(2, 4)\n",
            "(3, 4)\n"
          ]
        }
      ]
    },
    {
      "cell_type": "code",
      "source": [
        "import random\n",
        "\n",
        "pool = []\n",
        "\n",
        "for comb in combinations(a,2):\n",
        "  pool.append(comb)\n",
        "\n",
        "print(random.sample(pool,3))  #RANDOMIZE!"
      ],
      "metadata": {
        "colab": {
          "base_uri": "https://localhost:8080/"
        },
        "id": "YAh-F-55HCZH",
        "outputId": "18f855a0-d025-45c8-d5e1-f247b3f7eac1"
      },
      "execution_count": 32,
      "outputs": [
        {
          "output_type": "stream",
          "name": "stdout",
          "text": [
            "[(2, 4), (3, 4), (1, 2)]\n"
          ]
        }
      ]
    },
    {
      "cell_type": "markdown",
      "source": [
        "Above, the idea is that you've limited your dataset in 2 ways. First, you're not using all the data elements all the time, and second, you're not using all the possible combinations of those data elements. The effect is to create a relatively random-looking set of data elements that you can use as input to an algorithm."
      ],
      "metadata": {
        "id": "0lVcKYkGHXU8"
      }
    },
    {
      "cell_type": "markdown",
      "source": [
        "In the Grim Face of Repetition"
      ],
      "metadata": {
        "id": "H0wkSQoBHl9X"
      }
    },
    {
      "cell_type": "code",
      "source": [
        "a = np.array([1,2,3,4,5,6,6,7,7,1,2,3])\n",
        "b = np.array(list(set(a)))\n",
        "\n",
        "print(b)\n",
        "\n",
        "#Repeated data can unfairly weight the output of an algorithm\n",
        "#so that you get inaccurate results.\n",
        "#Sommetimes you need unique values to determine the outcome\n",
        "#of data manipulation."
      ],
      "metadata": {
        "colab": {
          "base_uri": "https://localhost:8080/"
        },
        "id": "f7_EPNP0HplZ",
        "outputId": "6714cc42-ae3c-467e-99a6-6d5afb82c19f"
      },
      "execution_count": 34,
      "outputs": [
        {
          "output_type": "stream",
          "name": "stdout",
          "text": [
            "[1 2 3 4 5 6 7]\n"
          ]
        }
      ]
    },
    {
      "cell_type": "markdown",
      "source": [
        "In this case above, a begins with an assortment of numbers in no particular order and repeats. In Python, a set never contains repeated data. Consequently, by converting the list in a to a set and then back to a list, and then placing that list in an array, you obtain a vector that has no repeats."
      ],
      "metadata": {
        "id": "SM3vXsmGIM4y"
      }
    },
    {
      "cell_type": "markdown",
      "source": [
        "Getting the Desired Results Using Recursion"
      ],
      "metadata": {
        "id": "wwrqPXrfIcI0"
      }
    },
    {
      "cell_type": "code",
      "source": [
        "#Recursion is an elegant method of solving many computer problems, relying on a capability of a function to continue calling itself until it satisfies a particular condition.\n",
        "#Main reason to use recursion is that it provides an easier way to solve problems when working with some algorithms because it mimcs the way a human would solve it.\n",
        "#Recursion is not an easy tool because it requires some effort to understand how to build a recursive routine, and it can cause out-of-memory problems on your computer."
      ],
      "metadata": {
        "id": "tmYAK1biIa7x"
      },
      "execution_count": null,
      "outputs": []
    },
    {
      "cell_type": "markdown",
      "source": [
        "Explaining Recursion"
      ],
      "metadata": {
        "id": "VL2WoNgjI8hG"
      }
    },
    {
      "cell_type": "code",
      "source": [
        "#Simple recursion example: Factorials!!\n",
        "\n",
        "def factorial(n):\n",
        "  print(\"Factorial called with n= \", str(n))\n",
        "  if n ==1 or n == 0:\n",
        "    print(\"Congrats, you did basic math! So proud of you.\")\n",
        "    return 1\n",
        "  else:\n",
        "    return n * factorial(n-1)\n",
        "\n",
        "print(factorial(5))\n"
      ],
      "metadata": {
        "colab": {
          "base_uri": "https://localhost:8080/"
        },
        "id": "xPbXaL15I-lx",
        "outputId": "7edd47ae-c6a5-4bd4-8fc9-093f0acc2314"
      },
      "execution_count": 36,
      "outputs": [
        {
          "output_type": "stream",
          "name": "stdout",
          "text": [
            "Factorial called with n=  5\n",
            "Factorial called with n=  4\n",
            "Factorial called with n=  3\n",
            "Factorial called with n=  2\n",
            "Factorial called with n=  1\n",
            "Congrats, you did basic math! So proud of you.\n",
            "120\n"
          ]
        }
      ]
    },
    {
      "cell_type": "code",
      "source": [
        "#Does the same thing as above but with fewer lines of code\n",
        "def factorial(n):\n",
        "  print(\"factorial called with n= \", str(n))\n",
        "  if n > 1:\n",
        "    return n * factorial(n-1)\n",
        "  print(\"Ending condition met\")\n",
        "  return 1\n",
        "\n",
        "print(factorial(5))"
      ],
      "metadata": {
        "colab": {
          "base_uri": "https://localhost:8080/"
        },
        "id": "gO2pwUEFME_q",
        "outputId": "050f9507-bf2e-4c66-a1aa-739293c40655"
      },
      "execution_count": 37,
      "outputs": [
        {
          "output_type": "stream",
          "name": "stdout",
          "text": [
            "factorial called with n=  5\n",
            "factorial called with n=  4\n",
            "factorial called with n=  3\n",
            "factorial called with n=  2\n",
            "factorial called with n=  1\n",
            "Ending condition met\n",
            "120\n"
          ]
        }
      ]
    },
    {
      "cell_type": "markdown",
      "source": [
        "Note the difference above. Instead of checking the ending condition, this version checks the continuation condition. As long as n is greater than 1, the code will continue to make recursive calls. Even though this code is shorter than the previous version, it's also less clear because now you must think about what condition will end the recursion."
      ],
      "metadata": {
        "id": "S2ds7yugMg9l"
      }
    },
    {
      "cell_type": "markdown",
      "source": [
        "ELIMINATING TAIL CALL RECURSION"
      ],
      "metadata": {
        "id": "2nSc3fB_M0Mq"
      }
    },
    {
      "cell_type": "code",
      "source": [
        "#A tail call occurs any time the recursion makes a call to the function as the last thing before it returns.\n",
        "#In the previous section, this was the \"return n*factorial(n-1)\" bit\n",
        "\n",
        "#Tail calls are not necessarily bad, and they represent the manner in which most people write recursive routines.\n",
        "#however, using a tail call forces Python to keep track of the individual call values until the recursion rewinds.\n",
        "#Each call consumes memory. At some point your system will run out of memory and the call will fail.\n",
        "\n",
        "#WTIH FANCY PROGRAMMING, WE CAN ELIMINATE TAIL CALLS!\n",
        "\n",
        "def factorial(n):\n",
        "  print(\"factorial called with n=\", str(n))\n",
        "  result = 1\n",
        "  while n > 1:\n",
        "    result = result * n\n",
        "    n = n-1\n",
        "    print(\"Current value of n is \", str(n))\n",
        "  print(\"Ending condition met.\")\n",
        "  return result\n",
        "\n",
        "print(factorial(5))\n"
      ],
      "metadata": {
        "colab": {
          "base_uri": "https://localhost:8080/"
        },
        "id": "AVFyLKKcM2o4",
        "outputId": "e2cfae6c-e979-4ae0-dc5a-7326471b66d7"
      },
      "execution_count": 40,
      "outputs": [
        {
          "output_type": "stream",
          "name": "stdout",
          "text": [
            "factorial called with n= 5\n",
            "Current value of n is  4\n",
            "Current value of n is  3\n",
            "Current value of n is  2\n",
            "Current value of n is  1\n",
            "Ending condition met.\n",
            "120\n"
          ]
        }
      ]
    },
    {
      "cell_type": "markdown",
      "source": [
        "# Performing **Tasks** More *Quickly*"
      ],
      "metadata": {
        "id": "kYDRApFKOD_p"
      }
    },
    {
      "cell_type": "markdown",
      "source": [
        "Getting tasks done as quickly as possible is ideal. However, you always need to carefully weigh the techniques you use to achieve this effeciency."
      ],
      "metadata": {
        "id": "-k9Q11uyOPn3"
      }
    },
    {
      "cell_type": "markdown",
      "source": [
        "**CONSIDERING DIVIDE AND CONQUER** Napoleon time, in short."
      ],
      "metadata": {
        "id": "6zdbGBQ6OX0M"
      }
    },
    {
      "cell_type": "code",
      "source": [
        "#binary search\n",
        "\n",
        "def search(searchList, key):\n",
        "  mid = int(len(searchList)/2)\n",
        "  print(\"Searching midpoint at \", str(searchList[mid]))\n",
        "\n",
        "  if mid == 0:\n",
        "    print(\"Key Not Found m'lord!\")\n",
        "    return key\n",
        "\n",
        "  elif key == searchList[mid]:\n",
        "      print(\"Key Found sire!\")\n",
        "      return searchList[mid]\n",
        "\n",
        "  elif key > searchList[mid]:\n",
        "    print(\"searchList now contains\",\n",
        "          searchList[mid:len(searchList)])\n",
        "    search(searchList[mid:len(searchList)], key)\n",
        "\n",
        "  else:\n",
        "    print(\"searchList now contains \",\n",
        "          searchList[0:mid])\n",
        "    search(searchList[0:mid], key)\n",
        "\n",
        "aList = list(range(1,21))  #Remember to indent or you get NOTHING\n",
        "search(aList, 5)"
      ],
      "metadata": {
        "colab": {
          "base_uri": "https://localhost:8080/"
        },
        "id": "ASZZFBA2RHjb",
        "outputId": "2017f226-b204-4577-83dc-0fede55fc20a"
      },
      "execution_count": 56,
      "outputs": [
        {
          "output_type": "stream",
          "name": "stdout",
          "text": [
            "Searching midpoint at  11\n",
            "searchList now contains  [1, 2, 3, 4, 5, 6, 7, 8, 9, 10]\n",
            "Searching midpoint at  6\n",
            "searchList now contains  [1, 2, 3, 4, 5]\n",
            "Searching midpoint at  3\n",
            "searchList now contains [3, 4, 5]\n",
            "Searching midpoint at  4\n",
            "searchList now contains [4, 5]\n",
            "Searching midpoint at  5\n",
            "Key Found sire!\n"
          ]
        }
      ]
    },
    {
      "cell_type": "markdown",
      "source": [
        "The list may not contain a search value, so you must always provide an \"escape method\" for the recursion or the \"stack.\" A stack is a special area of memory used to store the call information. When working with recursion, you must remain proactive or endure the consequences later."
      ],
      "metadata": {
        "id": "8Ce98vmMTe_I"
      }
    },
    {
      "cell_type": "markdown",
      "source": [
        "# On the troubling matter of distinguishing between different possible solutions"
      ],
      "metadata": {
        "id": "pTGU1OM1T8u0"
      }
    },
    {
      "cell_type": "markdown",
      "source": [
        "Recursion is part of many different algorithms programming solutions. It's hard to get away from recursion in many cases because an iterative approach proves nonintuitive, cumbersome, and time consuming. However, you can create a number of different versions of the same solution, each of which has its own characteristics, flaws, and virtues."
      ],
      "metadata": {
        "id": "un6q5AVnUCp_"
      }
    }
  ]
}