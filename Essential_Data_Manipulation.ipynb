{
  "nbformat": 4,
  "nbformat_minor": 0,
  "metadata": {
    "colab": {
      "provenance": [],
      "authorship_tag": "ABX9TyMmlII/nsqjdKxQqXTd4r1e",
      "include_colab_link": true
    },
    "kernelspec": {
      "name": "python3",
      "display_name": "Python 3"
    },
    "language_info": {
      "name": "python"
    }
  },
  "cells": [
    {
      "cell_type": "markdown",
      "metadata": {
        "id": "view-in-github",
        "colab_type": "text"
      },
      "source": [
        "<a href=\"https://colab.research.google.com/github/TokyoGoblin/demon-dungeon/blob/main/Essential_Data_Manipulation.ipynb\" target=\"_parent\"><img src=\"https://colab.research.google.com/assets/colab-badge.svg\" alt=\"Open In Colab\"/></a>"
      ]
    },
    {
      "cell_type": "markdown",
      "source": [
        "# Performing Calculations Using Vectors and Matrixes"
      ],
      "metadata": {
        "id": "hEFuspVu_aKH"
      }
    },
    {
      "cell_type": "code",
      "execution_count": 10,
      "metadata": {
        "colab": {
          "base_uri": "https://localhost:8080/"
        },
        "id": "pnE_Beok8WhA",
        "outputId": "7756e252-d124-4e11-db31-e4b643a93b77"
      },
      "outputs": [
        {
          "output_type": "stream",
          "name": "stdout",
          "text": [
            "<class 'numpy.int16'>\n"
          ]
        }
      ],
      "source": [
        "import numpy as np\n",
        "myShort = np.short(15)\n",
        "myVect = np.array([1, 2, 3, 4])\n",
        "myVect = np.arange(1, 10, 2)\n",
        "myVect = np.int16([1, 2, 3, 4])\n",
        "print(type(myVect[0]))"
      ]
    },
    {
      "cell_type": "code",
      "source": [
        " myVect = np.array([1, 2, 3, 4])\n",
        " myVect * 1\n"
      ],
      "metadata": {
        "colab": {
          "base_uri": "https://localhost:8080/"
        },
        "id": "8OpikVKz9Oya",
        "outputId": "f91dc497-8121-45b0-d662-04ef9fd80b66"
      },
      "execution_count": 11,
      "outputs": [
        {
          "output_type": "execute_result",
          "data": {
            "text/plain": [
              "array([1, 2, 3, 4])"
            ]
          },
          "metadata": {},
          "execution_count": 11
        }
      ]
    },
    {
      "cell_type": "code",
      "source": [],
      "metadata": {
        "id": "kkvJkTVE9vjB"
      },
      "execution_count": 11,
      "outputs": []
    },
    {
      "cell_type": "markdown",
      "source": [
        "Can perform both logical and comparison tasks with scalar and vector"
      ],
      "metadata": {
        "id": "xEtG3JTM9wKo"
      }
    },
    {
      "cell_type": "code",
      "source": [
        "a = np.array([1, 2, 3, 4])\n",
        "b = np.array([2, 2, 4, 4])\n",
        "\n",
        "print(a==b)\n",
        "print(a < b)"
      ],
      "metadata": {
        "colab": {
          "base_uri": "https://localhost:8080/"
        },
        "id": "T2WpyZQ09-ou",
        "outputId": "e3b5a6a8-16ac-44d9-f579-048fd6b33b18"
      },
      "execution_count": 12,
      "outputs": [
        {
          "output_type": "stream",
          "name": "stdout",
          "text": [
            "[False  True False  True]\n",
            "[ True False  True False]\n"
          ]
        }
      ]
    },
    {
      "cell_type": "code",
      "source": [
        "a = np.array([True, False, True, False])\n",
        "b = np.array([True, True, False, False])\n",
        "\n",
        "print(np.logical_or(a,b))\n",
        "print(np.logical_and(a,b))\n",
        "print(np.logical_not(a))\n",
        "print(np.logical_xor(a,b))\n"
      ],
      "metadata": {
        "colab": {
          "base_uri": "https://localhost:8080/"
        },
        "id": "nLBAVPzU-VNG",
        "outputId": "d65cda0d-88cd-439a-c95d-63db0f32fa0a"
      },
      "execution_count": 13,
      "outputs": [
        {
          "output_type": "stream",
          "name": "stdout",
          "text": [
            "[ True  True  True False]\n",
            "[ True False False False]\n",
            "[False  True False  True]\n",
            "[False  True  True False]\n"
          ]
        }
      ]
    },
    {
      "cell_type": "markdown",
      "source": [
        "# Performing Vector Multiplication\n"
      ],
      "metadata": {
        "id": "7Sd1LAde_AXS"
      }
    },
    {
      "cell_type": "markdown",
      "source": [
        "An element-by-element multiplication can produce incorrect results when working with algorithms. In many cases, what you really need is a dot product, which is the sum of the products of two number sequences. When working with vectors, the dot product is always the sum of the individual element-by-element multiplications and results in a single number."
      ],
      "metadata": {
        "id": "KY884t-M_JL5"
      }
    },
    {
      "cell_type": "code",
      "source": [
        "#Create a matrix!\n",
        "myMatrix = np.array([[1,2,3], [4,5,6], [7,8,9]])\n",
        "print(myMatrix)\n",
        "#To access a particular array element, you provide a row and column index value\n",
        "myMatrix[0,0] #Prints out 1 from the Matrix"
      ],
      "metadata": {
        "colab": {
          "base_uri": "https://localhost:8080/"
        },
        "id": "2Y0pRqE0_HOH",
        "outputId": "8b5ae257-ed56-489e-b5b6-3ebaf52d8d69"
      },
      "execution_count": 16,
      "outputs": [
        {
          "output_type": "stream",
          "name": "stdout",
          "text": [
            "[[1 2 3]\n",
            " [4 5 6]\n",
            " [7 8 9]]\n"
          ]
        },
        {
          "output_type": "execute_result",
          "data": {
            "text/plain": [
              "1"
            ]
          },
          "metadata": {},
          "execution_count": 16
        }
      ]
    },
    {
      "cell_type": "markdown",
      "source": [
        "Above is a simple matrix and one simple matrix skill. Below is the best way to summon a matrix from the binary depths"
      ],
      "metadata": {
        "id": "-nSdqSKDAP7c"
      }
    },
    {
      "cell_type": "code",
      "source": [
        "myMatrix = np.mat([[1,2,3], [4,5,6], [7,8,9]])\n",
        "print(type(myMatrix)) #Checks if this is an actual matrix"
      ],
      "metadata": {
        "colab": {
          "base_uri": "https://localhost:8080/"
        },
        "id": "EoXgCP73AlEQ",
        "outputId": "b26236d9-8eb1-428a-8140-fee05ccf4dd6"
      },
      "execution_count": 20,
      "outputs": [
        {
          "output_type": "stream",
          "name": "stdout",
          "text": [
            "<class 'numpy.matrix'>\n"
          ]
        }
      ]
    },
    {
      "cell_type": "markdown",
      "source": [
        "One can also convert an existing array to a matrix using the asmatrix() function. Use the asarray() function to convert a matrix object back to an array form.\n",
        "\n",
        "Also, the only problem with the matrix class is that it works on only 2-D matrixes."
      ],
      "metadata": {
        "id": "yW0pv1mDA76a"
      }
    },
    {
      "cell_type": "code",
      "source": [
        "a = np.array([[1,2,3],[4,5,6]])\n",
        "b = np.array([[1,2,3], [4,5,6]])\n",
        "\n",
        "print(a*b)\n",
        "\n",
        "#To perform an element-by-element multiplication, the two matrixes must be the same shape. Otherwise, error message."
      ],
      "metadata": {
        "colab": {
          "base_uri": "https://localhost:8080/"
        },
        "id": "NYhgsqt5Bi13",
        "outputId": "620fbd5c-ee57-45d8-a1ef-fa2c3765c191"
      },
      "execution_count": 21,
      "outputs": [
        {
          "output_type": "stream",
          "name": "stdout",
          "text": [
            "[[ 1  4  9]\n",
            " [16 25 36]]\n"
          ]
        }
      ]
    },
    {
      "cell_type": "code",
      "source": [
        "a = np.array([[1,2,3], [4,5,6]])\n",
        "b = np.array([[1,2,3], [3,4,5], [5,6,7]])\n",
        "\n",
        "print(a.dot(b))"
      ],
      "metadata": {
        "colab": {
          "base_uri": "https://localhost:8080/"
        },
        "id": "EOJ4ddvABxdU",
        "outputId": "ef4bf507-780d-4259-ef92-9580080735b7"
      },
      "execution_count": 22,
      "outputs": [
        {
          "output_type": "stream",
          "name": "stdout",
          "text": [
            "[[22 28 34]\n",
            " [49 64 79]]\n"
          ]
        }
      ]
    },
    {
      "cell_type": "code",
      "source": [
        "changeIt = np.array([1,2,3,4,5,6,7,8])\n",
        "print(changeIt)\n",
        "\n",
        "changeIt = changeIt.reshape(2,4)\n",
        "print(changeIt)\n",
        "\n",
        "changeIt = changeIt.reshape(2,2,2)\n",
        "print(changeIt)"
      ],
      "metadata": {
        "colab": {
          "base_uri": "https://localhost:8080/"
        },
        "id": "HxYkq2sSCe4s",
        "outputId": "9359d470-5002-419c-c30e-216d1ace8cb8"
      },
      "execution_count": 23,
      "outputs": [
        {
          "output_type": "stream",
          "name": "stdout",
          "text": [
            "[1 2 3 4 5 6 7 8]\n",
            "[[1 2 3 4]\n",
            " [5 6 7 8]]\n",
            "[[[1 2]\n",
            "  [3 4]]\n",
            "\n",
            " [[5 6]\n",
            "  [7 8]]]\n"
          ]
        }
      ]
    },
    {
      "cell_type": "code",
      "source": [
        "changeIt = np.array([[1,2,3,4],[5,6,7,8]])\n",
        "print(changeIt)\n",
        "\n",
        "changeIt = np.transpose(changeIt)\n",
        "print(changeIt)\n",
        "\n",
        "print(np.identity(4))  #Identity matrix in numpy, using an identity function\n",
        "#notice that identity matrix contains all ones on the diagonal"
      ],
      "metadata": {
        "colab": {
          "base_uri": "https://localhost:8080/"
        },
        "id": "BnlhHAw2C9Lz",
        "outputId": "d4883ec6-4ce6-4a6c-bcd4-f46fd18dbf38"
      },
      "execution_count": 25,
      "outputs": [
        {
          "output_type": "stream",
          "name": "stdout",
          "text": [
            "[[1 2 3 4]\n",
            " [5 6 7 8]]\n",
            "[[1 5]\n",
            " [2 6]\n",
            " [3 7]\n",
            " [4 8]]\n",
            "[[1. 0. 0. 0.]\n",
            " [0. 1. 0. 0.]\n",
            " [0. 0. 1. 0.]\n",
            " [0. 0. 0. 1.]]\n"
          ]
        }
      ]
    },
    {
      "cell_type": "code",
      "source": [
        "a = np.array([[1,2], [3,4]])\n",
        "b = np.linalg.inv(a)\n",
        "\n",
        "print(np.allclose(np.dot(a,b), np.identity(2)))\n",
        "\n",
        "#The output of true tells us that b is the inverse of a.\n",
        " #(Sometimes, finding the inverse of a matrix is impossible)\n",
        " #When a matrix cannot be inverted, it is a degenerate matrix. (Rare)"
      ],
      "metadata": {
        "colab": {
          "base_uri": "https://localhost:8080/"
        },
        "id": "_JE_svAVDw8G",
        "outputId": "d7eb0522-09b6-434c-aaf1-ff37c2495865"
      },
      "execution_count": 27,
      "outputs": [
        {
          "output_type": "stream",
          "name": "stdout",
          "text": [
            "True\n"
          ]
        }
      ]
    },
    {
      "cell_type": "markdown",
      "source": [
        "# Creating Combinations the Right Way\n",
        "\n",
        "#Shaping data often involves viewing data in multiple ways."
      ],
      "metadata": {
        "id": "8uK4NO9IEMIC"
      }
    },
    {
      "cell_type": "markdown",
      "source": [
        "Distinguishing Permutations below"
      ],
      "metadata": {
        "id": "m9cQsYdoEcoy"
      }
    },
    {
      "cell_type": "code",
      "source": [
        "a = np.array([1,2,3])\n",
        "print(np.random.permutation(a))\n",
        "\n",
        "#randomizes original data"
      ],
      "metadata": {
        "colab": {
          "base_uri": "https://localhost:8080/"
        },
        "id": "jTALuQ5SEgLk",
        "outputId": "4ef361c2-428f-4884-9bb1-1b610623aa81"
      },
      "execution_count": 28,
      "outputs": [
        {
          "output_type": "stream",
          "name": "stdout",
          "text": [
            "[2 3 1]\n"
          ]
        }
      ]
    },
    {
      "cell_type": "code",
      "source": [
        "from itertools import permutations\n",
        "\n",
        "a = np.array([1,2,3])\n",
        "\n",
        "for p in permutations(a):\n",
        "  print(p)"
      ],
      "metadata": {
        "colab": {
          "base_uri": "https://localhost:8080/"
        },
        "id": "KdEsIZdKE8T7",
        "outputId": "6ff77989-415e-4640-bf61-eddc8e1019a0"
      },
      "execution_count": 29,
      "outputs": [
        {
          "output_type": "stream",
          "name": "stdout",
          "text": [
            "(1, 2, 3)\n",
            "(1, 3, 2)\n",
            "(2, 1, 3)\n",
            "(2, 3, 1)\n",
            "(3, 1, 2)\n",
            "(3, 2, 1)\n"
          ]
        }
      ]
    },
    {
      "cell_type": "markdown",
      "source": [
        "Shuffling Combinations"
      ],
      "metadata": {
        "id": "F3txF7v3FN42"
      }
    },
    {
      "cell_type": "markdown",
      "source": [],
      "metadata": {
        "id": "xI4MJWZKFPvo"
      }
    }
  ]
}