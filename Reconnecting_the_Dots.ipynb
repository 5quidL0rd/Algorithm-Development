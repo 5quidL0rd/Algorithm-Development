{
  "nbformat": 4,
  "nbformat_minor": 0,
  "metadata": {
    "colab": {
      "provenance": [],
      "authorship_tag": "ABX9TyNnduec9cPWNiPdkzEuN91G",
      "include_colab_link": true
    },
    "kernelspec": {
      "name": "python3",
      "display_name": "Python 3"
    },
    "language_info": {
      "name": "python"
    }
  },
  "cells": [
    {
      "cell_type": "markdown",
      "metadata": {
        "id": "view-in-github",
        "colab_type": "text"
      },
      "source": [
        "<a href=\"https://colab.research.google.com/github/5quidL0rd/Algorithm-Development/blob/main/Reconnecting_the_Dots.ipynb\" target=\"_parent\"><img src=\"https://colab.research.google.com/assets/colab-badge.svg\" alt=\"Open In Colab\"/></a>"
      ]
    },
    {
      "cell_type": "markdown",
      "source": [
        "# Creating the Graph"
      ],
      "metadata": {
        "id": "oQfC51NqwSRW"
      }
    },
    {
      "cell_type": "code",
      "execution_count": 13,
      "metadata": {
        "colab": {
          "base_uri": "https://localhost:8080/",
          "height": 516
        },
        "id": "klnRk7MJv4Bg",
        "outputId": "f2b2f281-23d7-4fec-cce7-563611e49c4e"
      },
      "outputs": [
        {
          "output_type": "display_data",
          "data": {
            "text/plain": [
              "<Figure size 640x480 with 1 Axes>"
            ],
            "image/png": "[encoded data removed]"
          },
          "metadata": {}
        }
      ],
      "source": [
        "import networkx as nx\n",
        "import matplotlib.pyplot as plt\n",
        "\n",
        "graph = {'A': ['B', 'C'],\n",
        "         'B': ['A', 'C', 'D'],\n",
        "         'C': ['A', 'B', 'D', 'E'],\n",
        "         'D': ['B', 'C', 'E', 'F'],\n",
        "         'E': ['C', 'D', 'F'],\n",
        "         'F': ['D', 'E']}\n",
        "\n",
        "Graph = nx.Graph()\n",
        "for node in graph:\n",
        "    Graph.add_node(node)\n",
        "    for edge in graph[node]:\n",
        "        Graph.add_edge(node, edge)\n",
        "\n",
        "pos = {'A': [0.00, 0.50], 'B': [0.25, 0.75],\n",
        "       'C': [0.25, 0.25], 'D': [0.75, 0.75],\n",
        "       'E': [0.75, 0.25], 'F': [1.00, 0.50]}\n",
        "\n",
        "draw_params = {'with_labels': True,\n",
        "               'node_color': 'skyblue',\n",
        "               'node_size': 700, 'width': 2,\n",
        "               'font_size': 14}\n",
        "\n",
        "nx.draw(Graph, pos, **draw_params)\n",
        "plt.show()"
      ]
    },
    {
      "cell_type": "markdown",
      "source": [
        "# Breadth-First Search"
      ],
      "metadata": {
        "id": "m6y9PONmyeQl"
      }
    },
    {
      "cell_type": "code",
      "source": [
        "def bfs(graph, start):\n",
        "    queue = [start]\n",
        "    queued = [start]\n",
        "    path = list()\n",
        "    while queue:\n",
        "        print('Queue is: %s' % queue)\n",
        "        vertex = queue.pop(0)\n",
        "        print('Processing %s' % vertex)\n",
        "        for candidate in graph[vertex]:\n",
        "            if candidate not in queued:\n",
        "                queued.append(candidate)\n",
        "                queue.append(candidate)\n",
        "                path.append(vertex + '>' + candidate)\n",
        "                print('Adding %s to the queue' % candidate)\n",
        "    return path\n",
        "\n",
        "graph = {'A': ['B', 'C'],\n",
        "         'B': ['A', 'C', 'D'],\n",
        "         'C': ['A', 'B', 'D', 'E'],\n",
        "         'D': ['B', 'C', 'E', 'F'],\n",
        "         'E': ['C', 'D', 'F'],\n",
        "         'F': ['D', 'E']}\n",
        "\n",
        "steps = bfs(graph, 'A')\n",
        "print('\\nBFS:', steps)\n",
        "print('\\n')\n",
        "\n",
        "steps = bfs(graph, 'B')\n",
        "print('\\nBFS:', steps)\n"
      ],
      "metadata": {
        "colab": {
          "base_uri": "https://localhost:8080/"
        },
        "id": "4X-rguGBygGa",
        "outputId": "db51cdc8-8437-4105-8967-0e6664476850"
      },
      "execution_count": 19,
      "outputs": [
        {
          "output_type": "stream",
          "name": "stdout",
          "text": [
            "Queue is: ['A']\n",
            "Processing A\n",
            "Adding B to the queue\n",
            "Adding C to the queue\n",
            "Queue is: ['B', 'C']\n",
            "Processing B\n",
            "Adding D to the queue\n",
            "Queue is: ['C', 'D']\n",
            "Processing C\n",
            "Adding E to the queue\n",
            "Queue is: ['D', 'E']\n",
            "Processing D\n",
            "Adding F to the queue\n",
            "Queue is: ['E', 'F']\n",
            "Processing E\n",
            "Queue is: ['F']\n",
            "Processing F\n",
            "\n",
            "BFS: ['A>B', 'A>C', 'B>D', 'C>E', 'D>F']\n",
            "\n",
            "\n",
            "Queue is: ['B']\n",
            "Processing B\n",
            "Adding A to the queue\n",
            "Adding C to the queue\n",
            "Adding D to the queue\n",
            "Queue is: ['A', 'C', 'D']\n",
            "Processing A\n",
            "Queue is: ['C', 'D']\n",
            "Processing C\n",
            "Adding E to the queue\n",
            "Queue is: ['D', 'E']\n",
            "Processing D\n",
            "Adding F to the queue\n",
            "Queue is: ['E', 'F']\n",
            "Processing E\n",
            "Queue is: ['F']\n",
            "Processing F\n",
            "\n",
            "BFS: ['B>A', 'B>C', 'B>D', 'C>E', 'D>F']\n"
          ]
        }
      ]
    },
    {
      "cell_type": "markdown",
      "source": [
        "# Applying Depth-First Search"
      ],
      "metadata": {
        "id": "rGRAc93YzqSY"
      }
    },
    {
      "cell_type": "code",
      "source": [
        "def dfs(graph, start):\n",
        "    stack = [start]\n",
        "    parents = {start: start}\n",
        "    path = list()\n",
        "    while stack:\n",
        "        print('Stack is: %s' % stack)\n",
        "        vertex = stack.pop()\n",
        "        print('Processing %s' % vertex)\n",
        "        for candidate in graph[vertex]:\n",
        "            if candidate not in parents:\n",
        "                parents[candidate] = vertex\n",
        "                stack.append(candidate)\n",
        "                print('Adding %s to the stack' % candidate)\n",
        "        if vertex != start:\n",
        "            path.append(parents[vertex] + '>' + vertex)\n",
        "    return path\n",
        "\n",
        "graph = {'A': ['B', 'C'],\n",
        "         'B': ['A', 'C', 'D'],\n",
        "         'C': ['A', 'B', 'D', 'E'],\n",
        "         'D': ['B', 'C', 'E', 'F'],\n",
        "         'E': ['C', 'D', 'F'],\n",
        "         'F': ['D', 'E']}\n",
        "\n",
        "steps = dfs(graph, 'A')\n",
        "print('\\nDFS:', steps)"
      ],
      "metadata": {
        "colab": {
          "base_uri": "https://localhost:8080/"
        },
        "id": "jvVQWZovzp6O",
        "outputId": "685b5be7-7278-4173-bf33-f59b83d2d037"
      },
      "execution_count": 21,
      "outputs": [
        {
          "output_type": "stream",
          "name": "stdout",
          "text": [
            "Stack is: ['A']\n",
            "Processing A\n",
            "Adding B to the stack\n",
            "Adding C to the stack\n",
            "Stack is: ['B', 'C']\n",
            "Processing C\n",
            "Adding D to the stack\n",
            "Adding E to the stack\n",
            "Stack is: ['B', 'D', 'E']\n",
            "Processing E\n",
            "Adding F to the stack\n",
            "Stack is: ['B', 'D', 'F']\n",
            "Processing F\n",
            "Stack is: ['B', 'D']\n",
            "Processing D\n",
            "Stack is: ['B']\n",
            "Processing B\n",
            "\n",
            "DFS: ['A>C', 'C>E', 'E>F', 'C>D', 'A>B']\n"
          ]
        }
      ]
    },
    {
      "cell_type": "markdown",
      "source": [
        "Minimum Spanning Tree"
      ],
      "metadata": {
        "id": "33QBvDId3ZjG"
      }
    },
    {
      "cell_type": "code",
      "source": [
        "import networkx as nx\n",
        "import matplotlib.pyplot as plt\n",
        "\n",
        "graph = {'A': {'B': 2, 'C': 3},\n",
        "         'B': {'A': 2, 'C': 2, 'D': 2},\n",
        "         'C': {'A': 3, 'B': 2, 'D': 3, 'E': 2},\n",
        "         'D': {'B': 2, 'C': 3, 'E': 1, 'F': 3},\n",
        "         'E': {'C': 2, 'D': 1, 'F': 1},\n",
        "         'F': {'D': 3, 'E': 1}}\n",
        "\n",
        "Graph = nx.Graph()\n",
        "for node in graph:\n",
        "  Graph.add_nodes_from(node)\n",
        "  for edge, weight in graph[node].items():\n",
        "    Graph.add_edge(node,edge, weight=weight)\n",
        "\n",
        "pos = { 'A' : [0.00, 0.50], 'B': [0.25, 0.75],\n",
        "       'C': [0.25, 0.25], 'D': [0.75, 0.75],\n",
        "        'E': [0.75, 0.25], 'F': [1.00, 0.50]}\n",
        "\n",
        "draw_params = {'with_labels' : True,\n",
        "               'arrows': True,\n",
        "               'node_color': 'skyblue',\n",
        "               'node_size': 700, 'width':2,\n",
        "               'font_size': 14}\n",
        "\n",
        "labels = nx.get_edge_attributes(Graph, 'weight')\n",
        "nx.draw(Graph, pos, **draw_params)\n",
        "nx.draw_networkx_edge_labels(Graph, pos,\n",
        "                             font_size=14,\n",
        "                             edge_labels=labels)\n",
        "\n",
        "plt.show()\n"
      ],
      "metadata": {
        "colab": {
          "base_uri": "https://localhost:8080/",
          "height": 516
        },
        "id": "4J17Er5_3bNS",
        "outputId": "6571cd1d-e545-4b35-e056-e5de5efabbfd"
      },
      "execution_count": 29,
      "outputs": [
        {
          "output_type": "display_data",
          "data": {
            "text/plain": [
              "<Figure size 640x480 with 1 Axes>"
            ],
            "image/png": "[encoded data removed]"
          },
          "metadata": {}
        }
      ]
    },
    {
      "cell_type": "markdown",
      "source": [
        "Algorithms for solving a minimum spanning tree:\n",
        "\n",
        "Boruvka's: Relies on a series of stages in whcih it identifies the edges with the smallest weight in each stage. The calculations begin by looking at individual vertexes, finding the smallest weight for that vertex, and then combining paths to form forests of individual trees until it creates a path that combines all the forests with the smallest weight.\n",
        "\n",
        "Prim's: Starts with an arbitrary vertex and grows the minimum spanning tree one edge at a time by always choosing the edge with the least weight that connects to a node that isn't already in the tree to the growing tree.\n",
        "\n",
        "Kruskal's: Uses an approach that combines both above. Does this by creating a forests of indivdual trees and then looking for the minimum edge for each vertex and building the forests one edge at a time."
      ],
      "metadata": {
        "id": "Vb8H0J8z6QzB"
      }
    },
    {
      "cell_type": "markdown",
      "source": [
        "# Priority Queue"
      ],
      "metadata": {
        "id": "7T3McKww7FNo"
      }
    },
    {
      "cell_type": "code",
      "source": [
        "from heapq import heapify, heappop, heappush\n",
        "\n",
        "class priority_queue():\n",
        "    def __init__(self):\n",
        "        self.queue = list()\n",
        "        heapify(self.queue)\n",
        "        self.index = dict()\n",
        "\n",
        "    def push(self, priority, label):\n",
        "        if label in self.index:\n",
        "            self.queue = [(w, l) for w, l in self.queue if l != label]\n",
        "            heapify(self.queue)\n",
        "        heappush(self.queue, (priority, label))\n",
        "\n",
        "    def pop(self):\n",
        "        if self.queue:\n",
        "            return heappop(self.queue)\n",
        "\n",
        "    def __contains__(self, label):\n",
        "        return label in self.index\n",
        "\n",
        "    def __len__(self):\n",
        "        return len(self.queue)"
      ],
      "metadata": {
        "id": "6TYkwxSa7J5N"
      },
      "execution_count": 35,
      "outputs": []
    },
    {
      "cell_type": "markdown",
      "source": [
        "Prim's Algorithm"
      ],
      "metadata": {
        "id": "pTUBeD4X753H"
      }
    },
    {
      "cell_type": "markdown",
      "source": [
        "Works by:\n",
        "1. Track both the edges of the minimum spanning tree and the used vertexes as they become part of the solution.\n",
        "2. Start from any vertex in the graph and place it into the solution\n",
        "3. Determine whether there are still vertexes that aren't part of the solution:\n",
        "a. Enumerate the edges that touch the vertexes in the solution.\n",
        "b. Insert the edge with the minimum weight into the spanning tree."
      ],
      "metadata": {
        "id": "ApEbjbo18sYF"
      }
    },
    {
      "cell_type": "code",
      "source": [
        "def prim(graph, start):\n",
        "    treepath = {}\n",
        "    total = 0\n",
        "    queue = priority_queue()\n",
        "    queue.push(0, (start, start))\n",
        "    while queue:\n",
        "        weight, (node_start, node_end) = queue.pop()\n",
        "        if node_end not in treepath:\n",
        "            treepath[node_end] = node_start\n",
        "            if weight:\n",
        "                print(\"Added edge from %s to %s weighting %i\" % (node_start, node_end, weight))\n",
        "            total += weight\n",
        "            for next_node, next_weight in graph[node_end].items():\n",
        "                queue.push(next_weight, (node_end, next_node))\n",
        "    print(\"Total spanning tree length: %i\" % total)\n",
        "    return treepath\n",
        "\n",
        "treepath = prim(graph, 'A')"
      ],
      "metadata": {
        "colab": {
          "base_uri": "https://localhost:8080/"
        },
        "id": "PzM4ip2o77Lm",
        "outputId": "31e09f75-26c9-44ec-b8c6-9956cde8bee4"
      },
      "execution_count": 43,
      "outputs": [
        {
          "output_type": "stream",
          "name": "stdout",
          "text": [
            "Added edge from A to B weighting 2\n",
            "Added edge from B to C weighting 2\n",
            "Added edge from B to D weighting 2\n",
            "Added edge from D to E weighting 1\n",
            "Added edge from E to F weighting 1\n",
            "Total spanning tree length: 8\n"
          ]
        }
      ]
    },
    {
      "cell_type": "markdown",
      "source": [
        "Kruskal's algorithm"
      ],
      "metadata": {
        "id": "ZWr6EFb8-Icy"
      }
    },
    {
      "cell_type": "markdown",
      "source": [
        "Works by:\n",
        "1. Put all the edges into a heap and sort them so that the shortest edges are on top.\n",
        "2. Create a set of trees, each one containing only one vertex (so that the number of trees is the same number as the vertexes) You conect trees as an aggregate until the trees converge intoa  tree of minimal length that spans all the vertexes.\n",
        "3. Repeat the following operations until the solution doesn't contain as many edges as the number of vertexes in the graph:\n",
        "a. Choose the shortest edge from the heap.\n",
        "b. Determine whether the two vertexes connected by the edge appear in different trees from among the set of connected trees.\n",
        "c. When the trees differ, connect the trees using the edge\n",
        "d. When the vertexes appear int he same tree, discard the edge\n",
        "e. Repeat steps a through d for the remaining edges on the heap"
      ],
      "metadata": {
        "id": "sV2cunab-J_h"
      }
    },
    {
      "cell_type": "code",
      "source": [
        "def kruskal(graph):\n",
        "    priority = priority_queue()\n",
        "    print(\"Pushing all edges into the priority queue\")\n",
        "    treepath = list()\n",
        "    connected = dict()\n",
        "    for node in graph:\n",
        "        connected[node] = [node]\n",
        "        for dest, weight in graph[node].items():\n",
        "            priority.push(weight, (node, dest))\n",
        "    print(\"totally %i edges\" % len(priority.queue))\n",
        "    print(\"Connected components: %s\" % connected.values())\n",
        "\n",
        "    total = 0\n",
        "    while len(treepath) < (len(graph) - 1):\n",
        "        weight, (start, end) = priority.pop()\n",
        "        if end not in connected[start]:\n",
        "            treepath.append((start, end))\n",
        "            print(\"Summing %s and %s components:\" % (connected[start], connected[end]))\n",
        "            print(\"\\tadded edge from %s to %s weighting %i\" % (start, end, weight))\n",
        "            total += weight\n",
        "            connected[start] += connected[end][:]\n",
        "            for element in connected[end]:\n",
        "                connected[element] = connected[start]\n",
        "    print(\"Total spanning tree length: %i\" % total)\n",
        "    return sorted(treepath, key=lambda x: x[0])\n",
        "\n",
        "print('\\nMinimum spanning tree:', kruskal(graph))"
      ],
      "metadata": {
        "colab": {
          "base_uri": "https://localhost:8080/"
        },
        "id": "NPgYFZPf-n62",
        "outputId": "0a12036d-037b-430c-b5b9-0c7c9972eff1"
      },
      "execution_count": 46,
      "outputs": [
        {
          "output_type": "stream",
          "name": "stdout",
          "text": [
            "Pushing all edges into the priority queue\n",
            "totally 18 edges\n",
            "Connected components: dict_values([['A'], ['B'], ['C'], ['D'], ['E'], ['F']])\n",
            "Summing ['D'] and ['E'] components:\n",
            "\tadded edge from D to E weighting 1\n",
            "Summing ['D', 'E'] and ['F'] components:\n",
            "\tadded edge from E to F weighting 1\n",
            "Summing ['A'] and ['B'] components:\n",
            "\tadded edge from A to B weighting 2\n",
            "Summing ['A', 'B'] and ['C'] components:\n",
            "\tadded edge from B to C weighting 2\n",
            "Summing ['A', 'B', 'C'] and ['D', 'E', 'F'] components:\n",
            "\tadded edge from B to D weighting 2\n",
            "Total spanning tree length: 8\n",
            "\n",
            "Minimum spanning tree: [('A', 'B'), ('B', 'C'), ('B', 'D'), ('D', 'E'), ('E', 'F')]\n"
          ]
        }
      ]
    },
    {
      "cell_type": "markdown",
      "source": [
        "# Dijkstra's Algorithm"
      ],
      "metadata": {
        "id": "IDDEoEhEB2tr"
      }
    },
    {
      "cell_type": "code",
      "source": [
        "import networkx as nx\n",
        "import matplotlib.pyplot as plt\n",
        "\n",
        "def dijkstra(graph, start, end):\n",
        "    inf = float('inf')\n",
        "    known = set()\n",
        "    priority = priority_queue()\n",
        "    path = {start: start}\n",
        "    distance = {node: inf for node in graph}\n",
        "\n",
        "    distance[start] = 0\n",
        "    priority.push(0, start)\n",
        "\n",
        "    while priority:\n",
        "        weight, actual_node = priority.pop()\n",
        "        if actual_node not in known:\n",
        "            for next_node, edge_weight in graph[actual_node].items():\n",
        "                to_next = distance[actual_node] + edge_weight\n",
        "                if to_next < distance[next_node]:\n",
        "                    distance[next_node] = to_next\n",
        "                    priority.push(to_next, next_node)\n",
        "                    path[next_node] = actual_node\n",
        "            known.add(actual_node)\n",
        "\n",
        "    return distance, path\n",
        "\n",
        "ngraph = {'A': {'B': 2, 'C': 3},\n",
        "         'B': {'A': 2, 'C': 2, 'D': 2},\n",
        "         'C': {'A': 3, 'B': 2, 'D': 3, 'E': 2},\n",
        "         'D': {'B': 2, 'C': 3, 'E': 1, 'F': 3},\n",
        "         'E': {'C': 2, 'D': 1, 'F': 1},\n",
        "         'F': {'D': 3, 'E': 1}}\n",
        "\n",
        "dist, path = dijkstra(ngraph, 'A', 'F')\n",
        "print(\"Shortest distance:\", dist['F'])\n",
        "print(\"Shortest path:\", path)"
      ],
      "metadata": {
        "colab": {
          "base_uri": "https://localhost:8080/"
        },
        "id": "n3DZs0vCC2M9",
        "outputId": "17c463d4-3cb5-45d7-c236-a0e7d88fe914"
      },
      "execution_count": 52,
      "outputs": [
        {
          "output_type": "stream",
          "name": "stdout",
          "text": [
            "Shortest distance: 6\n",
            "Shortest path: {'A': 'A', 'B': 'A', 'C': 'A', 'D': 'B', 'E': 'C', 'F': 'E'}\n"
          ]
        }
      ]
    },
    {
      "cell_type": "markdown",
      "source": [
        "# Bellman-Ford Algorithm"
      ],
      "metadata": {
        "id": "vnZdMjCTEO6_"
      }
    },
    {
      "cell_type": "code",
      "source": [
        "def bellman_ford(graph, start):\n",
        "  inf = float('inf')\n",
        "  distance = {node: inf if node != start else 0.0 for node in graph}\n",
        "  previous = {node: None for node in graph}\n",
        "\n",
        "  for actual_node in graph:\n",
        "    for next_node in graph[actual_node]:\n",
        "      edge_Weight = graph[actual_node][next_node]\n",
        "      tempDistance = (distance[actual_node] + edge_weight)\n",
        "\n",
        "      if tempDistance < distance[next_node]:\n",
        "        distance[next_node]= tempDistance\n",
        "        previous[next_node] = actual_node\n",
        "\n",
        "  return distance, previous"
      ],
      "metadata": {
        "id": "08STVmhrESDL"
      },
      "execution_count": 53,
      "outputs": []
    },
    {
      "cell_type": "markdown",
      "source": [
        "Floyd-Warshall algorithm"
      ],
      "metadata": {
        "id": "VFEA0SEDE0Lz"
      }
    },
    {
      "cell_type": "code",
      "source": [
        "def floyd_warshall(graph):\n",
        "\n",
        "  mat = {row: {col: dist(graph, row, col)\n",
        "              for col in graph} for row in graph}\n",
        "\n",
        "  for k in mat:\n",
        "    for i in mat:\n",
        "      for j in mat:\n",
        "        if mat[i][j] > mat[i][k] + mat[k][j]:\n",
        "          mat[i][j] = mat[i][k] + mat[k][j]\n",
        "  return mat"
      ],
      "metadata": {
        "id": "rEAmacNwE2Ax"
      },
      "execution_count": 54,
      "outputs": []
    }
  ]
}