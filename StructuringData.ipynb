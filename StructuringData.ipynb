{
  "nbformat": 4,
  "nbformat_minor": 0,
  "metadata": {
    "colab": {
      "provenance": [],
      "authorship_tag": "ABX9TyOH9bs3L1tTC+58D73+6kZT",
      "include_colab_link": true
    },
    "kernelspec": {
      "name": "python3",
      "display_name": "Python 3"
    },
    "language_info": {
      "name": "python"
    }
  },
  "cells": [
    {
      "cell_type": "markdown",
      "metadata": {
        "id": "view-in-github",
        "colab_type": "text"
      },
      "source": [
        "<a href=\"https://colab.research.google.com/github/TokyoGoblin/Algorithm-Development/blob/main/StructuringData.ipynb\" target=\"_parent\"><img src=\"https://colab.research.google.com/assets/colab-badge.svg\" alt=\"Open In Colab\"/></a>"
      ]
    },
    {
      "cell_type": "code",
      "execution_count": 32,
      "metadata": {
        "colab": {
          "base_uri": "https://localhost:8080/"
        },
        "id": "MOOPFTpFGxYs",
        "outputId": "71c48e78-221f-4521-bfbd-1ba4aa0d5ce0"
      },
      "outputs": [
        {
          "output_type": "stream",
          "name": "stdout",
          "text": [
            "   A  B  C\n",
            "0  0  0  0\n",
            "1  0  2  3\n",
            "2  0  3  4\n",
            "3  0  5  1\n",
            "4  0  0  0\n",
            "5  1  2  2\n",
            "6  0  0  0 \n",
            "\n",
            "   A  B  C\n",
            "0  0  0  0\n",
            "1  0  2  3\n",
            "2  0  3  4\n",
            "3  0  5  1\n",
            "5  1  2  2\n"
          ]
        }
      ],
      "source": [
        "import pandas as pd\n",
        "\n",
        "df = pd.DataFrame({'A': [ 0,0,0,0,0,1,0],\n",
        "                 'B': [0,2,3,5,0,2,0,],\n",
        "                 'C': [0,3,4,1,0,2,0]})\n",
        "print(df, \"\\n\")\n",
        "df = df.drop_duplicates()\n",
        "print(df)\n",
        ""
      ]
    },
    {
      "cell_type": "code",
      "source": [
        "import pandas as pd\n",
        "import numpy as np\n",
        "\n",
        "df = pd.DataFrame({'A': [0,0,1,None],\n",
        "                   'B': [1,2,3,4],\n",
        "                   'C': [np.NAN, 3,4,1]},\n",
        "                  dtype=int)\n",
        "print(df, \"\\n\")\n",
        "\n",
        "values = pd.Series(df.mean(), dtype=int)\n",
        "print(values, \"\\n\")\n",
        "\n",
        "df=df.fillna(values)\n",
        "print(df)\n",
        "\n",
        "#The fillna() function enables you to get rid of the\n",
        "#missing values whether they're not a number or simply missing\n",
        "\n"
      ],
      "metadata": {
        "colab": {
          "base_uri": "https://localhost:8080/"
        },
        "id": "MeWtofgZJVnY",
        "outputId": "0b2924ed-092c-45c3-9654-c19bba71175d"
      },
      "execution_count": 33,
      "outputs": [
        {
          "output_type": "stream",
          "name": "stdout",
          "text": [
            "      A  B    C\n",
            "0     0  1  NaN\n",
            "1     0  2    3\n",
            "2     1  3    4\n",
            "3  None  4    1 \n",
            "\n",
            "A    0\n",
            "B    2\n",
            "C    2\n",
            "dtype: int64 \n",
            "\n",
            "   A  B  C\n",
            "0  0  1  2\n",
            "1  0  2  3\n",
            "2  1  3  4\n",
            "3  0  4  1\n"
          ]
        },
        {
          "output_type": "stream",
          "name": "stderr",
          "text": [
            "<ipython-input-33-f6ec63c23613>:4: FutureWarning: Could not cast to int64, falling back to object. This behavior is deprecated. In a future version, when a dtype is passed to 'DataFrame', either all columns will be cast to that dtype, or a TypeError will be raised.\n",
            "  df = pd.DataFrame({'A': [0,0,1,None],\n"
          ]
        }
      ]
    },
    {
      "cell_type": "markdown",
      "source": [
        "# Stacking and Piling Data in Order"
      ],
      "metadata": {
        "id": "THIOYzhPKZRF"
      }
    },
    {
      "cell_type": "code",
      "source": [
        "#A stack provides LIFO data storage. The NumPy package provides an actual stack implementation.\n",
        "#Additionally, Pandas associate stack with objects such as the DataFrame.\n",
        "\n",
        "MyStack = []\n",
        "StackSize = 3\n",
        "\n",
        "def DisplayStack():\n",
        "  print(\"Stack currently contains:\")\n",
        "  for item in MyStack:\n",
        "    print(item)\n",
        "\n",
        "def Push(Value):\n",
        "  if len(MyStack) < StackSize:\n",
        "    MyStack.append(Value)\n",
        "  else:\n",
        "    print(\"Stack is full!\")\n",
        "\n",
        "def Pop():\n",
        "    if len(MyStack) > 0:\n",
        "      print(\"Popping:\" , MyStack.pop())\n",
        "    else:\n",
        "        print(\"Stack is empty.\")\n",
        "\n",
        "Push(1)\n",
        "Push(2)\n",
        "Push(3)\n",
        "DisplayStack()\n",
        "Push(4)\n",
        "Pop()\n",
        "DisplayStack()\n",
        "Pop()\n",
        "Pop()\n",
        "Pop()"
      ],
      "metadata": {
        "colab": {
          "base_uri": "https://localhost:8080/"
        },
        "id": "TNZ5VEiaK04U",
        "outputId": "933f55ea-43c0-4727-b526-e2fda2dc0e8f"
      },
      "execution_count": 37,
      "outputs": [
        {
          "output_type": "stream",
          "name": "stdout",
          "text": [
            "Stack currently contains:\n",
            "1\n",
            "2\n",
            "3\n",
            "Stack is full!\n",
            "Popping: 3\n",
            "Stack currently contains:\n",
            "1\n",
            "2\n",
            "Popping: 2\n",
            "Popping: 1\n",
            "Stack is empty.\n"
          ]
        }
      ]
    },
    {
      "cell_type": "markdown",
      "source": [
        "*Using queues**"
      ],
      "metadata": {
        "id": "5wM1PeVDNx2-"
      }
    },
    {
      "cell_type": "code",
      "source": [
        "#Unlike stacks, queues are FIFO data structures\n",
        "\n",
        "import queue\n",
        "\n",
        "MyQueue = queue.Queue(3)\n",
        "\n",
        "print(\"Queue empty: \", MyQueue.empty())\n",
        "\n",
        "MyQueue.put(1)\n",
        "MyQueue.put(2)\n",
        "MyQueue.put(3)\n",
        "print(\"Queue full:\" , MyQueue.full())\n",
        "\n",
        "print(\"Popping: \" , MyQueue.get())\n",
        "print(\"Queue full: \", MyQueue.full())\n",
        "\n",
        "print(\"Popping: \", MyQueue.get())\n",
        "print(\"Popping: \", MyQueue.get())\n",
        "print(\"Queue empty: \", MyQueue.empty())"
      ],
      "metadata": {
        "colab": {
          "base_uri": "https://localhost:8080/"
        },
        "id": "P5vNIt6kN01R",
        "outputId": "6cff0346-9a26-45cc-813a-6ca3d46c4b82"
      },
      "execution_count": 39,
      "outputs": [
        {
          "output_type": "stream",
          "name": "stdout",
          "text": [
            "Queue empty:  True\n",
            "Queue full: True\n",
            "Popping:  1\n",
            "Queue full:  False\n",
            "Popping:  2\n",
            "Popping:  3\n",
            "Queue empty:  True\n"
          ]
        }
      ]
    },
    {
      "cell_type": "markdown",
      "source": [
        "**Finding data using dictionaries**\n",
        "\n",
        "*Special rules for making a key*\n",
        "\n",
        "1) The key must be unique.\n",
        "2) The key must be immutable.\n"
      ],
      "metadata": {
        "id": "9mQ3pJ0VPBxT"
      }
    },
    {
      "cell_type": "code",
      "source": [
        "Colors = {\"Sam\": \"Blue\", \"Amy\": \"Red\", \"Sarah\": \"Yellow\"}\n",
        "\n",
        "print(Colors[\"Sarah\"])\n",
        "print(Colors.keys())\n",
        "\n",
        "\n",
        "\n",
        "for name, color in Colors.items():\n",
        "  print(f\"{name} likes the color {color}.\")\n",
        "\n",
        "Colors[\"Sarah\"] = \"Purple\"\n",
        "\n",
        "Colors.update({\"Harry\": \"Orange\"})\n",
        "\n",
        "del Colors[\"Sam\"]\n",
        "\n",
        "\n",
        "print(Colors)"
      ],
      "metadata": {
        "colab": {
          "base_uri": "https://localhost:8080/"
        },
        "id": "Wt4_iNaZQA3T",
        "outputId": "2e7085e9-74d5-4ef3-90ad-a2a550f99d1a"
      },
      "execution_count": 73,
      "outputs": [
        {
          "output_type": "stream",
          "name": "stdout",
          "text": [
            "Yellow\n",
            "dict_keys(['Sam', 'Amy', 'Sarah'])\n",
            "Sam likes the color Blue.\n",
            "Amy likes the color Red.\n",
            "Sarah likes the color Yellow.\n",
            "{'Amy': 'Red', 'Sarah': 'Purple', 'Harry': 'Orange'}\n"
          ]
        }
      ]
    },
    {
      "cell_type": "markdown",
      "source": [
        "**Back to the TREES!!**\n",
        "\n",
        "A tree strucutre looks like the physical object in the natural world. Using trees helps you organize data quickly and find it in a shorter time than using\n",
        "many other data-storage techniques. Commonly used for search and sort routines."
      ],
      "metadata": {
        "id": "iRdzSPY9UZPG"
      }
    },
    {
      "cell_type": "markdown",
      "source": [
        "A root node provides the starting point for the varoius kinds of processing one performs. Connected to the root node are either branches or leaves. a leaf node is always an endpoing point for the tree. Branch nodes support either other branches or leaves."
      ],
      "metadata": {
        "id": "3QQa8KkrU49r"
      }
    },
    {
      "cell_type": "code",
      "source": [
        "class binaryTree:\n",
        "  def __init__(self, nodeData, left=None, right=None):\n",
        "    self.nodeData = nodeData\n",
        "    self.left = left\n",
        "    self.right = right\n",
        "\n",
        "    def __str__(self):\n",
        "      return str(self.nodeData)\n",
        "\n",
        "#Creates a basic tree object that defines the three elements that a node must include:\n",
        "#data storage, left connection, and right connection\n",
        "\n",
        "tree = binaryTree(\"Root\")\n",
        "BranchA = binaryTree(\"Branch A\")\n",
        "BranchB = binaryTree(\"Branch B\")\n",
        "tree.left = BranchA\n",
        "tree.right = BranchB\n",
        "\n",
        "LeafC = binaryTree(\"Leaf C\")\n",
        "LeafD = binaryTree(\"Leaf D\")\n",
        "LeafE = binaryTree(\"Leaf E\")\n",
        "LeafF = binaryTree(\"Leaf F\")\n",
        "BranchA.left = LeafC\n",
        "BranchA.right = LeafD\n",
        "BranchB.left = LeafE\n",
        "BranchB.right = LeafF\n",
        "\n",
        "#how to use recursion to traverse the tree we just built\n",
        "def traverse(tree):\n",
        "  if tree.left != None:\n",
        "    traverse(tree.left)\n",
        "  if tree.right != None:\n",
        "    traverse(tree.right)\n",
        "  print(tree.nodeData)\n",
        "\n",
        "traverse(tree)"
      ],
      "metadata": {
        "colab": {
          "base_uri": "https://localhost:8080/"
        },
        "id": "KirXhuYVVG9I",
        "outputId": "fb2352ae-fe22-40bb-8209-2dfc6eda466f"
      },
      "execution_count": 82,
      "outputs": [
        {
          "output_type": "stream",
          "name": "stdout",
          "text": [
            "Leaf C\n",
            "Leaf D\n",
            "Branch A\n",
            "Leaf E\n",
            "Leaf F\n",
            "Branch B\n",
            "Root\n"
          ]
        }
      ]
    },
    {
      "cell_type": "markdown",
      "source": [
        "**Types of Trees**\n",
        "\n",
        "Balanced trees: a kind of tree that maintains a balanced strucutre through reorganization so that it can provide reduced access times\n",
        "\n",
        "Unbalanced trees:A tree that places new data items wherever necessary in the tree without regard to balance. This method builds the tree faster but reduceds access speed when searching or sorting.\n",
        "\n",
        "Heaps: A sophisticated tree that allows data insertions into the tree structure. The use of data insertion makes sorting faster."
      ],
      "metadata": {
        "id": "FoDTabLKdcFU"
      }
    },
    {
      "cell_type": "markdown",
      "source": [
        "**Representing Relations in a Graph**\n",
        "\n",
        "Graphs are another form of common data structure. Used if top-down approach won't work"
      ],
      "metadata": {
        "id": "skvhJobXeBzR"
      }
    },
    {
      "cell_type": "code",
      "source": [
        "graph = {'A': ['B', 'F'],\n",
        "         'B': ['A','C'],\n",
        "         'C': ['B', 'D'],\n",
        "         'D' : ['C', 'E'],\n",
        "         'E' : ['D','F'],\n",
        "         'F' : ['E','A']}\n",
        "\n",
        "def find_path(graph, start, end, path=[]):\n",
        "  path = path + [start]\n",
        "\n",
        "  if start == end:\n",
        "    print(\"Ending\")\n",
        "    return path\n",
        "\n",
        "  for node in graph[start]:\n",
        "    print(\"Checking Node \", node)\n",
        "\n",
        "    if node not in path:\n",
        "      print(\"Path so far \", path)\n",
        "\n",
        "      newp = find_path(graph, node, end, path)\n",
        "      if newp:\n",
        "        return newp\n",
        "\n",
        "find_path(graph, 'B', 'E')"
      ],
      "metadata": {
        "colab": {
          "base_uri": "https://localhost:8080/"
        },
        "id": "d-7YLZozeNJw",
        "outputId": "39d71a23-e651-43a6-e46f-59787caf6f0c"
      },
      "execution_count": 86,
      "outputs": [
        {
          "output_type": "stream",
          "name": "stdout",
          "text": [
            "Checking Node  A\n",
            "Path so far  ['B']\n",
            "Checking Node  B\n",
            "Checking Node  F\n",
            "Path so far  ['B', 'A']\n",
            "Checking Node  E\n",
            "Path so far  ['B', 'A', 'F']\n",
            "Ending\n"
          ]
        },
        {
          "output_type": "execute_result",
          "data": {
            "text/plain": [
              "['B', 'A', 'F', 'E']"
            ]
          },
          "metadata": {},
          "execution_count": 86
        }
      ]
    }
  ]
}